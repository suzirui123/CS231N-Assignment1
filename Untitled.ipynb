{
 "cells": [
  {
   "cell_type": "code",
   "execution_count": 1,
   "metadata": {
    "collapsed": true
   },
   "outputs": [],
   "source": [
    "import numpy as np"
   ]
  },
  {
   "cell_type": "code",
   "execution_count": 7,
   "metadata": {
    "collapsed": false
   },
   "outputs": [],
   "source": [
    "a = np.arange(12).reshape(4,3)"
   ]
  },
  {
   "cell_type": "code",
   "execution_count": 13,
   "metadata": {
    "collapsed": false,
    "scrolled": true
   },
   "outputs": [
    {
     "data": {
      "text/plain": [
       "array([[ 0.14633885,  0.23706301,  0.32780035],\n",
       "       [ 0.22867502,  0.01872507,  0.66453575],\n",
       "       [ 0.47591433,  0.14804768,  0.71067627],\n",
       "       [ 0.91933836,  0.98148406,  0.03818375]])"
      ]
     },
     "execution_count": 13,
     "metadata": {},
     "output_type": "execute_result"
    }
   ],
   "source": [
    "num_class = W2.shape[1]\n",
    "reg = np.max(scores , axis = 1 , keepdims = True)\n",
    "reg_exp = np.exp(scores - reg)\n",
    "prob = reg_exp / np.sum(reg_exp , axis = 1, keepdims = True)\n",
    "prob_correct = -np.log(prob[np.arange(N) , y])\n",
    "loss = np.sum(prob_correct)\n",
    "loss /= N\n",
    "loss += 0.5 * reg * np.sum(W1 * W1) + 0.5 * reg * np.sum(W2 * W2)"
   ]
  }
 ],
 "metadata": {
  "kernelspec": {
   "display_name": "Python 2",
   "language": "python",
   "name": "python2"
  },
  "language_info": {
   "codemirror_mode": {
    "name": "ipython",
    "version": 2
   },
   "file_extension": ".py",
   "mimetype": "text/x-python",
   "name": "python",
   "nbconvert_exporter": "python",
   "pygments_lexer": "ipython2",
   "version": "2.7.6"
  }
 },
 "nbformat": 4,
 "nbformat_minor": 1
}
